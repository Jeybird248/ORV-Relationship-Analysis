{
 "cells": [
  {
   "cell_type": "code",
   "execution_count": 1,
   "metadata": {},
   "outputs": [],
   "source": [
    "%%capture\n",
    "!pip install nltk"
   ]
  },
  {
   "cell_type": "code",
   "execution_count": 3,
   "metadata": {},
   "outputs": [],
   "source": [
    "import os\n",
    "\n",
    "def split_text_file(input_file_path, output_directory, chapters_per_file=50):\n",
    "    with open(input_file_path, 'r', encoding='utf-8') as file:\n",
    "        content = file.read()\n",
    "    \n",
    "    chapters = content.split('Chapter ')\n",
    "    num_files = (len(chapters) - 1) // chapters_per_file + 1\n",
    "    \n",
    "    for i in range(num_files):\n",
    "        start_index = i * chapters_per_file + 1\n",
    "        end_index = start_index + chapters_per_file if start_index + chapters_per_file <= len(chapters) else None\n",
    "        \n",
    "        file_content = 'Chapter '.join(chapters[start_index:end_index])\n",
    "        output_file_path = os.path.join(output_directory, f'output_{i+1}.txt')\n",
    "        \n",
    "        with open(output_file_path, 'w', encoding='utf-8') as file:\n",
    "            file.write(file_content)\n",
    "\n",
    "# Specify the input file path, output folder path, and max characters per chunk\n",
    "input_file_path = \"book_split_input\\\\book.txt\"\n",
    "output_folder_path = \"book_split_output\"\n",
    "\n",
    "# Split the text file into chunks\n",
    "split_text_file(input_file_path, output_folder_path)\n"
   ]
  }
 ],
 "metadata": {
  "kernelspec": {
   "display_name": "Python 3",
   "language": "python",
   "name": "python3"
  },
  "language_info": {
   "codemirror_mode": {
    "name": "ipython",
    "version": 3
   },
   "file_extension": ".py",
   "mimetype": "text/x-python",
   "name": "python",
   "nbconvert_exporter": "python",
   "pygments_lexer": "ipython3",
   "version": "3.10.2"
  },
  "orig_nbformat": 4
 },
 "nbformat": 4,
 "nbformat_minor": 2
}
